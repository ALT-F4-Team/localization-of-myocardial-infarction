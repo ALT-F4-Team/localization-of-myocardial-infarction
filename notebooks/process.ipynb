{
 "cells": [
  {
   "cell_type": "code",
   "execution_count": 1,
   "id": "1bc4710c",
   "metadata": {},
   "outputs": [],
   "source": [
    "import numpy as np\n",
    "import pandas as pd\n",
    "import wfdb\n",
    "from fancyimpute import KNN\n",
    "import matplotlib.pyplot as plt"
   ]
  },
  {
   "cell_type": "markdown",
   "id": "248c5ea9",
   "metadata": {},
   "source": [
    "# Подгрузка данных"
   ]
  },
  {
   "cell_type": "code",
   "execution_count": 5,
   "id": "c45ed044",
   "metadata": {},
   "outputs": [],
   "source": [
    "kaggle_formatted = pd.read_csv('../aiijc_data/kaggle_formatted/train_meta.csv')\n",
    "kaggle_siganls = pd.read_csv('../aiijc_data/kaggle_formatted/train_signal.csv')\n",
    "\n",
    "ptbxl = pd.read_csv('../aiijc_data/ptb-xl-a-large-publicly-available-electrocardiography-dataset-1.0.3/ptbxl_database.csv')\n",
    "\n",
    "aiijc = pd.read_csv('../aiijc_data/task_1/train/train_meta.csv')\n",
    "aiijc_labels = pd.read_csv('../aiijc_data/task_1/train/train_gts.csv')\n",
    "\n",
    "aiijc_test = pd.read_csv('../aiijc_data/task_1/test/test_meta.csv')"
   ]
  },
  {
   "cell_type": "markdown",
   "id": "3475783f",
   "metadata": {},
   "source": [
    "# Обработка"
   ]
  },
  {
   "cell_type": "code",
   "execution_count": 81,
   "id": "2c0e2b29",
   "metadata": {},
   "outputs": [],
   "source": [
    "kaggle_formatted = kaggle_formatted.loc[(kaggle_formatted.NORM == 1) | (kaggle_formatted.MI == 1)]\n",
    "kaggle_formatted = kaggle_formatted.loc[:, ['ecg_id', 'age', 'sex', 'height', 'weight', 'nurse', 'site', 'device', 'MI']]"
   ]
  },
  {
   "cell_type": "code",
   "execution_count": 82,
   "id": "2f46556d",
   "metadata": {},
   "outputs": [],
   "source": [
    "ptbxl = ptbxl[ptbxl.ecg_id.isin(kaggle_formatted.ecg_id)]\n",
    "kaggle_formatted = kaggle_formatted[kaggle_formatted.ecg_id.isin(ptbxl.ecg_id)]"
   ]
  },
  {
   "cell_type": "code",
   "execution_count": 83,
   "id": "80ca8989",
   "metadata": {},
   "outputs": [],
   "source": [
    "kaggle_formatted = kaggle_formatted.merge(ptbxl[['filename_hr', 'ecg_id']], on='ecg_id', how='left')"
   ]
  },
  {
   "cell_type": "code",
   "execution_count": 84,
   "id": "725b6d99",
   "metadata": {},
   "outputs": [],
   "source": [
    "aiijc = aiijc.merge(aiijc_labels, on='record_name', how='left')\n",
    "aiijc = aiijc[~aiijc.ecg_id.isin(kaggle_formatted.ecg_id)]\n",
    "aiijc = aiijc.rename({'myocard': 'MI'}, axis=1)"
   ]
  },
  {
   "cell_type": "markdown",
   "id": "b65d87dd",
   "metadata": {},
   "source": [
    "# Создание объединненого датасета"
   ]
  },
  {
   "cell_type": "code",
   "execution_count": 76,
   "id": "daa5a827",
   "metadata": {},
   "outputs": [],
   "source": [
    "new_data = pd.concat([kaggle_formatted, aiijc[['ecg_id', 'age', 'sex', 'height', 'weight', 'nurse', 'site', 'device', 'filename_hr', 'MI']]])"
   ]
  },
  {
   "cell_type": "code",
   "execution_count": 77,
   "id": "f9bafa4e",
   "metadata": {},
   "outputs": [],
   "source": [
    "new_data['record_name'] = new_data['filename_hr'].apply(lambda x: x[-8:])"
   ]
  },
  {
   "cell_type": "code",
   "execution_count": 73,
   "id": "ae3a5c03",
   "metadata": {},
   "outputs": [],
   "source": [
    "new_data_labels = new_data[['record_name', 'MI']].rename({'MI': 'myocard'}, axis=1)\n",
    "new_data = new_data.drop([\"MI\"], axis=1)"
   ]
  },
  {
   "cell_type": "markdown",
   "id": "af4d543f",
   "metadata": {},
   "source": [
    "# Заполнение пропуском с использованием KNN"
   ]
  },
  {
   "cell_type": "code",
   "execution_count": 333,
   "id": "27238028",
   "metadata": {},
   "outputs": [],
   "source": [
    "new_data['nurse'] = new_data['nurse'].fillna(int(new_data.nurse.mode()))\n",
    "new_data['site'] = new_data['site'].fillna(int(new_data.site.mode()))"
   ]
  },
  {
   "cell_type": "code",
   "execution_count": 335,
   "id": "8552c60b",
   "metadata": {
    "scrolled": true
   },
   "outputs": [
    {
     "name": "stdout",
     "output_type": "stream",
     "text": [
      "Imputing row 1/12931 with 1 missing, elapsed time: 39.640\n",
      "Imputing row 101/12931 with 2 missing, elapsed time: 39.664\n",
      "Imputing row 201/12931 with 1 missing, elapsed time: 39.672\n",
      "Imputing row 301/12931 with 0 missing, elapsed time: 39.687\n",
      "Imputing row 401/12931 with 0 missing, elapsed time: 39.697\n",
      "Imputing row 501/12931 with 1 missing, elapsed time: 39.706\n",
      "Imputing row 601/12931 with 0 missing, elapsed time: 39.714\n",
      "Imputing row 701/12931 with 1 missing, elapsed time: 39.730\n",
      "Imputing row 801/12931 with 2 missing, elapsed time: 39.737\n",
      "Imputing row 901/12931 with 0 missing, elapsed time: 39.753\n",
      "Imputing row 1001/12931 with 1 missing, elapsed time: 39.761\n",
      "Imputing row 1101/12931 with 0 missing, elapsed time: 39.769\n",
      "Imputing row 1201/12931 with 0 missing, elapsed time: 39.790\n",
      "Imputing row 1301/12931 with 1 missing, elapsed time: 39.810\n",
      "Imputing row 1401/12931 with 0 missing, elapsed time: 39.826\n",
      "Imputing row 1501/12931 with 0 missing, elapsed time: 39.834\n",
      "Imputing row 1601/12931 with 0 missing, elapsed time: 39.851\n",
      "Imputing row 1701/12931 with 1 missing, elapsed time: 39.860\n",
      "Imputing row 1801/12931 with 0 missing, elapsed time: 39.875\n",
      "Imputing row 1901/12931 with 1 missing, elapsed time: 39.889\n",
      "Imputing row 2001/12931 with 2 missing, elapsed time: 39.916\n",
      "Imputing row 2101/12931 with 2 missing, elapsed time: 39.933\n",
      "Imputing row 2201/12931 with 0 missing, elapsed time: 39.947\n",
      "Imputing row 2301/12931 with 0 missing, elapsed time: 39.966\n",
      "Imputing row 2401/12931 with 2 missing, elapsed time: 39.982\n",
      "Imputing row 2501/12931 with 0 missing, elapsed time: 39.998\n",
      "Imputing row 2601/12931 with 2 missing, elapsed time: 40.022\n",
      "Imputing row 2701/12931 with 2 missing, elapsed time: 40.038\n",
      "Imputing row 2801/12931 with 2 missing, elapsed time: 40.055\n",
      "Imputing row 2901/12931 with 2 missing, elapsed time: 40.087\n",
      "Imputing row 3001/12931 with 1 missing, elapsed time: 40.111\n",
      "Imputing row 3101/12931 with 2 missing, elapsed time: 40.127\n",
      "Imputing row 3201/12931 with 0 missing, elapsed time: 40.151\n",
      "Imputing row 3301/12931 with 0 missing, elapsed time: 40.159\n",
      "Imputing row 3401/12931 with 0 missing, elapsed time: 40.167\n",
      "Imputing row 3501/12931 with 2 missing, elapsed time: 40.183\n",
      "Imputing row 3601/12931 with 0 missing, elapsed time: 40.191\n",
      "Imputing row 3701/12931 with 2 missing, elapsed time: 40.199\n",
      "Imputing row 3801/12931 with 0 missing, elapsed time: 40.207\n",
      "Imputing row 3901/12931 with 2 missing, elapsed time: 40.239\n",
      "Imputing row 4001/12931 with 2 missing, elapsed time: 40.263\n",
      "Imputing row 4101/12931 with 2 missing, elapsed time: 40.279\n",
      "Imputing row 4201/12931 with 2 missing, elapsed time: 40.304\n",
      "Imputing row 4301/12931 with 0 missing, elapsed time: 40.319\n",
      "Imputing row 4401/12931 with 2 missing, elapsed time: 40.330\n",
      "Imputing row 4501/12931 with 2 missing, elapsed time: 40.346\n",
      "Imputing row 4601/12931 with 0 missing, elapsed time: 40.363\n",
      "Imputing row 4701/12931 with 0 missing, elapsed time: 40.376\n",
      "Imputing row 4801/12931 with 2 missing, elapsed time: 40.397\n",
      "Imputing row 4901/12931 with 2 missing, elapsed time: 40.414\n",
      "Imputing row 5001/12931 with 2 missing, elapsed time: 40.433\n",
      "Imputing row 5101/12931 with 2 missing, elapsed time: 40.459\n",
      "Imputing row 5201/12931 with 2 missing, elapsed time: 40.482\n",
      "Imputing row 5301/12931 with 2 missing, elapsed time: 40.498\n",
      "Imputing row 5401/12931 with 2 missing, elapsed time: 40.519\n",
      "Imputing row 5501/12931 with 0 missing, elapsed time: 40.525\n",
      "Imputing row 5601/12931 with 2 missing, elapsed time: 40.539\n",
      "Imputing row 5701/12931 with 2 missing, elapsed time: 40.555\n",
      "Imputing row 5801/12931 with 0 missing, elapsed time: 40.564\n",
      "Imputing row 5901/12931 with 2 missing, elapsed time: 40.580\n",
      "Imputing row 6001/12931 with 0 missing, elapsed time: 40.595\n",
      "Imputing row 6101/12931 with 2 missing, elapsed time: 40.620\n",
      "Imputing row 6201/12931 with 2 missing, elapsed time: 40.647\n",
      "Imputing row 6301/12931 with 2 missing, elapsed time: 40.669\n",
      "Imputing row 6401/12931 with 2 missing, elapsed time: 40.696\n",
      "Imputing row 6501/12931 with 0 missing, elapsed time: 40.710\n",
      "Imputing row 6601/12931 with 2 missing, elapsed time: 40.718\n",
      "Imputing row 6701/12931 with 2 missing, elapsed time: 40.734\n",
      "Imputing row 6801/12931 with 0 missing, elapsed time: 40.751\n",
      "Imputing row 6901/12931 with 1 missing, elapsed time: 40.767\n",
      "Imputing row 7001/12931 with 2 missing, elapsed time: 40.783\n",
      "Imputing row 7101/12931 with 1 missing, elapsed time: 40.809\n",
      "Imputing row 7201/12931 with 2 missing, elapsed time: 40.841\n",
      "Imputing row 7301/12931 with 2 missing, elapsed time: 40.866\n",
      "Imputing row 7401/12931 with 0 missing, elapsed time: 40.896\n",
      "Imputing row 7501/12931 with 2 missing, elapsed time: 40.912\n",
      "Imputing row 7601/12931 with 2 missing, elapsed time: 40.917\n",
      "Imputing row 7701/12931 with 2 missing, elapsed time: 40.932\n",
      "Imputing row 7801/12931 with 1 missing, elapsed time: 40.949\n",
      "Imputing row 7901/12931 with 0 missing, elapsed time: 40.958\n",
      "Imputing row 8001/12931 with 2 missing, elapsed time: 40.965\n",
      "Imputing row 8101/12931 with 2 missing, elapsed time: 40.983\n",
      "Imputing row 8201/12931 with 2 missing, elapsed time: 41.008\n",
      "Imputing row 8301/12931 with 2 missing, elapsed time: 41.034\n",
      "Imputing row 8401/12931 with 2 missing, elapsed time: 41.064\n",
      "Imputing row 8501/12931 with 2 missing, elapsed time: 41.080\n",
      "Imputing row 8601/12931 with 2 missing, elapsed time: 41.097\n",
      "Imputing row 8701/12931 with 0 missing, elapsed time: 41.104\n",
      "Imputing row 8801/12931 with 0 missing, elapsed time: 41.114\n",
      "Imputing row 8901/12931 with 1 missing, elapsed time: 41.131\n",
      "Imputing row 9001/12931 with 0 missing, elapsed time: 41.147\n",
      "Imputing row 9101/12931 with 0 missing, elapsed time: 41.172\n",
      "Imputing row 9201/12931 with 1 missing, elapsed time: 41.187\n",
      "Imputing row 9301/12931 with 2 missing, elapsed time: 41.211\n",
      "Imputing row 9401/12931 with 2 missing, elapsed time: 41.235\n",
      "Imputing row 9501/12931 with 2 missing, elapsed time: 41.263\n",
      "Imputing row 9601/12931 with 2 missing, elapsed time: 41.284\n",
      "Imputing row 9701/12931 with 3 missing, elapsed time: 41.296\n",
      "Imputing row 9801/12931 with 0 missing, elapsed time: 41.301\n",
      "Imputing row 9901/12931 with 0 missing, elapsed time: 41.320\n",
      "Imputing row 10001/12931 with 0 missing, elapsed time: 41.335\n",
      "Imputing row 10101/12931 with 2 missing, elapsed time: 41.350\n",
      "Imputing row 10201/12931 with 2 missing, elapsed time: 41.375\n",
      "Imputing row 10301/12931 with 1 missing, elapsed time: 41.400\n",
      "Imputing row 10401/12931 with 2 missing, elapsed time: 41.435\n",
      "Imputing row 10501/12931 with 0 missing, elapsed time: 41.464\n",
      "Imputing row 10601/12931 with 2 missing, elapsed time: 41.496\n",
      "Imputing row 10701/12931 with 2 missing, elapsed time: 41.520\n",
      "Imputing row 10801/12931 with 2 missing, elapsed time: 41.546\n",
      "Imputing row 10901/12931 with 2 missing, elapsed time: 41.579\n",
      "Imputing row 11001/12931 with 2 missing, elapsed time: 41.603\n",
      "Imputing row 11101/12931 with 2 missing, elapsed time: 41.631\n",
      "Imputing row 11201/12931 with 2 missing, elapsed time: 41.659\n",
      "Imputing row 11301/12931 with 2 missing, elapsed time: 41.687\n",
      "Imputing row 11401/12931 with 2 missing, elapsed time: 41.717\n",
      "Imputing row 11501/12931 with 2 missing, elapsed time: 41.747\n",
      "Imputing row 11601/12931 with 2 missing, elapsed time: 41.774\n",
      "Imputing row 11701/12931 with 2 missing, elapsed time: 41.807\n",
      "Imputing row 11801/12931 with 2 missing, elapsed time: 41.840\n",
      "Imputing row 11901/12931 with 2 missing, elapsed time: 41.866\n",
      "Imputing row 12001/12931 with 1 missing, elapsed time: 41.896\n",
      "Imputing row 12101/12931 with 0 missing, elapsed time: 41.899\n",
      "Imputing row 12201/12931 with 2 missing, elapsed time: 41.914\n",
      "Imputing row 12301/12931 with 0 missing, elapsed time: 41.930\n",
      "Imputing row 12401/12931 with 2 missing, elapsed time: 41.956\n",
      "Imputing row 12501/12931 with 2 missing, elapsed time: 41.970\n",
      "Imputing row 12601/12931 with 2 missing, elapsed time: 41.995\n",
      "Imputing row 12701/12931 with 2 missing, elapsed time: 42.012\n",
      "Imputing row 12801/12931 with 2 missing, elapsed time: 42.036\n",
      "Imputing row 12901/12931 with 2 missing, elapsed time: 42.068\n"
     ]
    }
   ],
   "source": [
    "KNN_imputer = KNN()\n",
    "new_data.loc[:, ['sex', 'age', 'height', 'weight', 'nurse', 'site']] = KNN_imputer.fit_transform(new_data[ ['sex', 'age', 'height', 'weight', 'nurse', 'site']])"
   ]
  },
  {
   "cell_type": "markdown",
   "id": "83247506",
   "metadata": {},
   "source": [
    "# Создание папки исходного датасета"
   ]
  },
  {
   "cell_type": "code",
   "execution_count": 347,
   "id": "1299400c",
   "metadata": {},
   "outputs": [],
   "source": [
    "aiijc = pd.read_csv('../aiijc_data/task_1/train/train_meta.csv')"
   ]
  },
  {
   "cell_type": "code",
   "execution_count": 353,
   "id": "a89b79d2",
   "metadata": {},
   "outputs": [],
   "source": [
    "aiijc = aiijc[['age', 'sex', 'height', 'weight', 'nurse', 'site', 'device', 'record_name']]"
   ]
  },
  {
   "cell_type": "code",
   "execution_count": 356,
   "id": "5ba716b4",
   "metadata": {},
   "outputs": [
    {
     "name": "stdout",
     "output_type": "stream",
     "text": [
      "Imputing row 1/2101 with 1 missing, elapsed time: 0.559\n",
      "Imputing row 101/2101 with 2 missing, elapsed time: 0.562\n",
      "Imputing row 201/2101 with 0 missing, elapsed time: 0.563\n",
      "Imputing row 301/2101 with 0 missing, elapsed time: 0.565\n",
      "Imputing row 401/2101 with 0 missing, elapsed time: 0.569\n",
      "Imputing row 501/2101 with 2 missing, elapsed time: 0.571\n",
      "Imputing row 601/2101 with 2 missing, elapsed time: 0.574\n",
      "Imputing row 701/2101 with 2 missing, elapsed time: 0.577\n",
      "Imputing row 801/2101 with 0 missing, elapsed time: 0.579\n",
      "Imputing row 901/2101 with 2 missing, elapsed time: 0.582\n",
      "Imputing row 1001/2101 with 2 missing, elapsed time: 0.585\n",
      "Imputing row 1101/2101 with 2 missing, elapsed time: 0.588\n",
      "Imputing row 1201/2101 with 0 missing, elapsed time: 0.590\n",
      "Imputing row 1301/2101 with 2 missing, elapsed time: 0.594\n",
      "Imputing row 1401/2101 with 0 missing, elapsed time: 0.596\n",
      "Imputing row 1501/2101 with 0 missing, elapsed time: 0.600\n",
      "Imputing row 1601/2101 with 2 missing, elapsed time: 0.602\n",
      "Imputing row 1701/2101 with 2 missing, elapsed time: 0.605\n",
      "Imputing row 1801/2101 with 2 missing, elapsed time: 0.608\n",
      "Imputing row 1901/2101 with 2 missing, elapsed time: 0.612\n",
      "Imputing row 2001/2101 with 2 missing, elapsed time: 0.617\n",
      "Imputing row 2101/2101 with 2 missing, elapsed time: 0.625\n"
     ]
    },
    {
     "name": "stderr",
     "output_type": "stream",
     "text": [
      "C:\\Users\\user\\AppData\\Local\\Temp\\ipykernel_10420\\295347514.py:1: SettingWithCopyWarning: \n",
      "A value is trying to be set on a copy of a slice from a DataFrame.\n",
      "Try using .loc[row_indexer,col_indexer] = value instead\n",
      "\n",
      "See the caveats in the documentation: https://pandas.pydata.org/pandas-docs/stable/user_guide/indexing.html#returning-a-view-versus-a-copy\n",
      "  aiijc.loc[:, ['sex', 'age', 'height', 'weight', 'nurse', 'site']] = KNN_imputer.fit_transform(aiijc[['sex', 'age', 'height', 'weight', 'nurse', 'site']])\n"
     ]
    }
   ],
   "source": [
    "aiijc.loc[:, ['sex', 'age', 'height', 'weight', 'nurse', 'site']] = KNN_imputer.fit_transform(aiijc[['sex', 'age', 'height', 'weight', 'nurse', 'site']])"
   ]
  },
  {
   "cell_type": "code",
   "execution_count": 360,
   "id": "318629ba",
   "metadata": {},
   "outputs": [],
   "source": [
    "aiijc.to_csv('../aiijc_data/aiijc_formatted/meta.csv', index=False)"
   ]
  },
  {
   "cell_type": "code",
   "execution_count": 423,
   "id": "6d7eab75",
   "metadata": {},
   "outputs": [],
   "source": [
    "aiijc_labels.to_csv('../aiijc_data/aiijc_formatted/labels.csv', index=False)"
   ]
  },
  {
   "cell_type": "markdown",
   "id": "944b99d7",
   "metadata": {},
   "source": [
    "# Создание папки увеличенного датасета"
   ]
  },
  {
   "cell_type": "code",
   "execution_count": 387,
   "id": "33939950",
   "metadata": {},
   "outputs": [],
   "source": [
    "filenames_hr = list(new_data.filename_hr)"
   ]
  },
  {
   "cell_type": "code",
   "execution_count": 406,
   "id": "6c695e3f",
   "metadata": {},
   "outputs": [
    {
     "name": "stderr",
     "output_type": "stream",
     "text": [
      "100%|█████████████████████████████████████████████████| 12931/12931 [04:37<00:00, 46.67it/s]\n"
     ]
    }
   ],
   "source": [
    "from tqdm import tqdm\n",
    "for i in tqdm(filenames_hr):\n",
    "    hr = wfdb.rdsamp('../aiijc_data/ptb-xl-a-large-publicly-available-electrocardiography-dataset-1.0.3/'+i)[0].T\n",
    "    np.save('../aiijc_data/big_formatted/signals/'+i[-8:], hr)"
   ]
  },
  {
   "cell_type": "code",
   "execution_count": 2,
   "id": "8c259b7b",
   "metadata": {},
   "outputs": [],
   "source": [
    "hr1 = np.load('../aiijc_data/task_1/train/00749_hr.npy')\n",
    "hr2 = np.load('../aiijc_data/big_formatted/signals/00749_hr.npy')"
   ]
  },
  {
   "cell_type": "code",
   "execution_count": 415,
   "id": "60af76d0",
   "metadata": {},
   "outputs": [],
   "source": [
    "new_data = new_data.drop(['ecg_id', 'filename_hr'], axis=1)"
   ]
  },
  {
   "cell_type": "code",
   "execution_count": 421,
   "id": "2de6cfb5",
   "metadata": {},
   "outputs": [],
   "source": [
    "new_data.to_csv('../aiijc_data/big_formatted/meta.csv', index=False)"
   ]
  },
  {
   "cell_type": "code",
   "execution_count": 422,
   "id": "2ef30b8a",
   "metadata": {},
   "outputs": [],
   "source": [
    "new_data_labels.to_csv('../aiijc_data/big_formatted/labels.csv', index=False)"
   ]
  }
 ],
 "metadata": {
  "kernelspec": {
   "display_name": "Python 3 (ipykernel)",
   "language": "python",
   "name": "python3"
  },
  "language_info": {
   "codemirror_mode": {
    "name": "ipython",
    "version": 3
   },
   "file_extension": ".py",
   "mimetype": "text/x-python",
   "name": "python",
   "nbconvert_exporter": "python",
   "pygments_lexer": "ipython3",
   "version": "3.10.5"
  }
 },
 "nbformat": 4,
 "nbformat_minor": 5
}
